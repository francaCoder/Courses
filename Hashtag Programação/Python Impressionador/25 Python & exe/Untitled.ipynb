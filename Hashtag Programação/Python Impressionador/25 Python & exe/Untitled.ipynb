{
 "cells": [
  {
   "cell_type": "code",
   "execution_count": 2,
   "id": "d5c42996",
   "metadata": {},
   "outputs": [],
   "source": [
    "from twilio.rest import Client\n",
    "\n",
    "account_SID = \"AC19ec6bfb1294094b0fbb2.....\"\n",
    "token = \"70997a09987c717223b45.....\"\n",
    "\n",
    "client = Client(account_SID, token)\n",
    "\n",
    "message = client.messages.create(\n",
    "    to=\"+5511*********\",\n",
    "    from_=\"+1989....\",\n",
    "    body=\"Hello from Python\"\n",
    ")"
   ]
  },
  {
   "cell_type": "code",
   "execution_count": null,
   "id": "48c85f55",
   "metadata": {},
   "outputs": [],
   "source": []
  }
 ],
 "metadata": {
  "kernelspec": {
   "display_name": "Python 3 (ipykernel)",
   "language": "python",
   "name": "python3"
  },
  "language_info": {
   "codemirror_mode": {
    "name": "ipython",
    "version": 3
   },
   "file_extension": ".py",
   "mimetype": "text/x-python",
   "name": "python",
   "nbconvert_exporter": "python",
   "pygments_lexer": "ipython3",
   "version": "3.9.12"
  }
 },
 "nbformat": 4,
 "nbformat_minor": 5
}
